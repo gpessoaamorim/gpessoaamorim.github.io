{
 "cells": [
  {
   "cell_type": "markdown",
   "metadata": {},
   "source": [
    "# Unit 4 activities - task A"
   ]
  },
  {
   "cell_type": "markdown",
   "metadata": {},
   "source": [
    "## Task A: Correlation  "
   ]
  },
  {
   "cell_type": "markdown",
   "metadata": {},
   "source": [
    "\n",
    "- Pre-process the data – mean population of each country and mean per capita GDP (from 2001 to 2021) by making some arrangements for the missing values (HINT: You will need to use the datasets Global_GDP.csv and Global_Population.csv).   \n",
    "- Investigate any correlation between the mean population of each country and the mean per capita GDP (from 2001 to 2021).   \n",
    "- Very briefly, interpret the generated plot.  \n",
    "- Evaluate the Pearson Correlation Coefficient."
   ]
  },
  {
   "cell_type": "markdown",
   "metadata": {},
   "source": [
    "### Initial setup"
   ]
  },
  {
   "cell_type": "code",
   "execution_count": 153,
   "metadata": {},
   "outputs": [],
   "source": [
    "# initial setup\n",
    "\n",
    "import matplotlib.pyplot as plt\n",
    "import pandas as pd\n",
    "import pylab as pl\n",
    "import numpy as np\n",
    "import seaborn as sns\n",
    "from scipy.stats import pearsonr\n",
    "from sklearn.linear_model import LinearRegression\n",
    "from sklearn.metrics import mean_squared_error, r2_score\n",
    "from sklearn.feature_selection import f_regression\n",
    "import math\n",
    "\n"
   ]
  },
  {
   "cell_type": "code",
   "execution_count": 2,
   "metadata": {},
   "outputs": [],
   "source": [
    "# load data\n",
    "\n",
    "gdp = pd.read_csv(\"Datasets/Unit04 Global_GDP.csv\")\n",
    "pop = pd.read_csv(\"Datasets/Unit04 Global_Population.csv\")\n"
   ]
  },
  {
   "cell_type": "markdown",
   "metadata": {},
   "source": [
    "### Exploratory data analysis"
   ]
  },
  {
   "cell_type": "code",
   "execution_count": 3,
   "metadata": {},
   "outputs": [
    {
     "name": "stdout",
     "output_type": "stream",
     "text": [
      "<class 'pandas.core.frame.DataFrame'>\n",
      "RangeIndex: 266 entries, 0 to 265\n",
      "Data columns (total 65 columns):\n",
      " #   Column          Non-Null Count  Dtype  \n",
      "---  ------          --------------  -----  \n",
      " 0   Country Name    266 non-null    object \n",
      " 1   Country Code    266 non-null    object \n",
      " 2   Indicator Name  266 non-null    object \n",
      " 3   Indicator Code  266 non-null    object \n",
      " 4   1960            128 non-null    float64\n",
      " 5   1961            134 non-null    float64\n",
      " 6   1962            137 non-null    float64\n",
      " 7   1963            137 non-null    float64\n",
      " 8   1964            137 non-null    float64\n",
      " 9   1965            148 non-null    float64\n",
      " 10  1966            151 non-null    float64\n",
      " 11  1967            154 non-null    float64\n",
      " 12  1968            159 non-null    float64\n",
      " 13  1969            159 non-null    float64\n",
      " 14  1970            168 non-null    float64\n",
      " 15  1971            171 non-null    float64\n",
      " 16  1972            171 non-null    float64\n",
      " 17  1973            171 non-null    float64\n",
      " 18  1974            172 non-null    float64\n",
      " 19  1975            174 non-null    float64\n",
      " 20  1976            175 non-null    float64\n",
      " 21  1977            178 non-null    float64\n",
      " 22  1978            177 non-null    float64\n",
      " 23  1979            178 non-null    float64\n",
      " 24  1980            190 non-null    float64\n",
      " 25  1981            194 non-null    float64\n",
      " 26  1982            195 non-null    float64\n",
      " 27  1983            196 non-null    float64\n",
      " 28  1984            197 non-null    float64\n",
      " 29  1985            199 non-null    float64\n",
      " 30  1986            201 non-null    float64\n",
      " 31  1987            205 non-null    float64\n",
      " 32  1988            210 non-null    float64\n",
      " 33  1989            210 non-null    float64\n",
      " 34  1990            225 non-null    float64\n",
      " 35  1991            220 non-null    float64\n",
      " 36  1992            224 non-null    float64\n",
      " 37  1993            227 non-null    float64\n",
      " 38  1994            231 non-null    float64\n",
      " 39  1995            240 non-null    float64\n",
      " 40  1996            240 non-null    float64\n",
      " 41  1997            240 non-null    float64\n",
      " 42  1998            242 non-null    float64\n",
      " 43  1999            243 non-null    float64\n",
      " 44  2000            247 non-null    float64\n",
      " 45  2001            248 non-null    float64\n",
      " 46  2002            253 non-null    float64\n",
      " 47  2003            253 non-null    float64\n",
      " 48  2004            253 non-null    float64\n",
      " 49  2005            253 non-null    float64\n",
      " 50  2006            254 non-null    float64\n",
      " 51  2007            254 non-null    float64\n",
      " 52  2008            255 non-null    float64\n",
      " 53  2009            255 non-null    float64\n",
      " 54  2010            256 non-null    float64\n",
      " 55  2011            258 non-null    float64\n",
      " 56  2012            257 non-null    float64\n",
      " 57  2013            258 non-null    float64\n",
      " 58  2014            258 non-null    float64\n",
      " 59  2015            257 non-null    float64\n",
      " 60  2016            256 non-null    float64\n",
      " 61  2017            256 non-null    float64\n",
      " 62  2018            256 non-null    float64\n",
      " 63  2019            253 non-null    float64\n",
      " 64  2020            241 non-null    float64\n",
      "dtypes: float64(61), object(4)\n",
      "memory usage: 135.2+ KB\n"
     ]
    }
   ],
   "source": [
    "# general exploration\n",
    "\n",
    "gdp.info()"
   ]
  },
  {
   "cell_type": "code",
   "execution_count": 4,
   "metadata": {},
   "outputs": [
    {
     "name": "stdout",
     "output_type": "stream",
     "text": [
      "<class 'pandas.core.frame.DataFrame'>\n",
      "RangeIndex: 272 entries, 0 to 271\n",
      "Data columns (total 66 columns):\n",
      " #   Column        Non-Null Count  Dtype \n",
      "---  ------        --------------  ----- \n",
      " 0   Country Name  269 non-null    object\n",
      " 1   Country Code  267 non-null    object\n",
      " 2   Series Name   267 non-null    object\n",
      " 3   Series Code   267 non-null    object\n",
      " 4   1960          267 non-null    object\n",
      " 5   1961          267 non-null    object\n",
      " 6   1962          267 non-null    object\n",
      " 7   1963          267 non-null    object\n",
      " 8   1964          267 non-null    object\n",
      " 9   1965          267 non-null    object\n",
      " 10  1966          267 non-null    object\n",
      " 11  1967          267 non-null    object\n",
      " 12  1968          267 non-null    object\n",
      " 13  1969          267 non-null    object\n",
      " 14  1970          267 non-null    object\n",
      " 15  1971          267 non-null    object\n",
      " 16  1972          267 non-null    object\n",
      " 17  1973          267 non-null    object\n",
      " 18  1974          267 non-null    object\n",
      " 19  1975          267 non-null    object\n",
      " 20  1976          267 non-null    object\n",
      " 21  1977          267 non-null    object\n",
      " 22  1978          267 non-null    object\n",
      " 23  1979          267 non-null    object\n",
      " 24  1980          267 non-null    object\n",
      " 25  1981          267 non-null    object\n",
      " 26  1982          267 non-null    object\n",
      " 27  1983          267 non-null    object\n",
      " 28  1984          267 non-null    object\n",
      " 29  1985          267 non-null    object\n",
      " 30  1986          267 non-null    object\n",
      " 31  1987          267 non-null    object\n",
      " 32  1988          267 non-null    object\n",
      " 33  1989          267 non-null    object\n",
      " 34  1990          267 non-null    object\n",
      " 35  1991          267 non-null    object\n",
      " 36  1992          267 non-null    object\n",
      " 37  1993          267 non-null    object\n",
      " 38  1994          267 non-null    object\n",
      " 39  1995          267 non-null    object\n",
      " 40  1996          267 non-null    object\n",
      " 41  1997          267 non-null    object\n",
      " 42  1998          267 non-null    object\n",
      " 43  1999          267 non-null    object\n",
      " 44  2000          267 non-null    object\n",
      " 45  2001          267 non-null    object\n",
      " 46  2002          267 non-null    object\n",
      " 47  2003          267 non-null    object\n",
      " 48  2004          267 non-null    object\n",
      " 49  2005          267 non-null    object\n",
      " 50  2006          267 non-null    object\n",
      " 51  2007          267 non-null    object\n",
      " 52  2008          267 non-null    object\n",
      " 53  2009          267 non-null    object\n",
      " 54  2010          267 non-null    object\n",
      " 55  2011          267 non-null    object\n",
      " 56  2012          267 non-null    object\n",
      " 57  2013          267 non-null    object\n",
      " 58  2014          267 non-null    object\n",
      " 59  2015          267 non-null    object\n",
      " 60  2016          267 non-null    object\n",
      " 61  2017          267 non-null    object\n",
      " 62  2018          267 non-null    object\n",
      " 63  2019          267 non-null    object\n",
      " 64  2020          266 non-null    object\n",
      " 65  2021          266 non-null    object\n",
      "dtypes: object(66)\n",
      "memory usage: 140.4+ KB\n"
     ]
    }
   ],
   "source": [
    "pop.info()"
   ]
  },
  {
   "cell_type": "code",
   "execution_count": null,
   "metadata": {},
   "outputs": [
    {
     "name": "stdout",
     "output_type": "stream",
     "text": [
      "                  Country Name Country Code     Indicator Name  \\\n",
      "0                        Aruba          ABW  GDP (current US$)   \n",
      "1  Africa Eastern and Southern          AFE  GDP (current US$)   \n",
      "2                  Afghanistan          AFG  GDP (current US$)   \n",
      "3   Africa Western and Central          AFW  GDP (current US$)   \n",
      "4                       Angola          AGO  GDP (current US$)   \n",
      "\n",
      "   Indicator Code          1960          1961          1962          1963  \\\n",
      "0  NY.GDP.MKTP.CD           NaN           NaN           NaN           NaN   \n",
      "1  NY.GDP.MKTP.CD  1.929944e+10  1.970954e+10  2.147872e+10  2.571501e+10   \n",
      "2  NY.GDP.MKTP.CD  5.377778e+08  5.488889e+08  5.466667e+08  7.511112e+08   \n",
      "3  NY.GDP.MKTP.CD  1.040428e+10  1.112805e+10  1.194335e+10  1.267652e+10   \n",
      "4  NY.GDP.MKTP.CD           NaN           NaN           NaN           NaN   \n",
      "\n",
      "           1964          1965  ...          2011          2012          2013  \\\n",
      "0           NaN           NaN  ...  2.549721e+09  2.534637e+09  2.727850e+09   \n",
      "1  2.351080e+10  2.679160e+10  ...  9.427110e+11  9.498490e+11  9.635600e+11   \n",
      "2  8.000000e+08  1.006667e+09  ...  1.780511e+10  1.990732e+10  2.014640e+10   \n",
      "3  1.383858e+10  1.486247e+10  ...  6.709630e+11  7.275710e+11  8.207880e+11   \n",
      "4           NaN           NaN  ...  1.117900e+11  1.280530e+11  1.367100e+11   \n",
      "\n",
      "           2014          2015          2016          2017          2018  \\\n",
      "0  2.790849e+09  2.962905e+09  2.983637e+09  3.092430e+09  3.202189e+09   \n",
      "1  9.837490e+11  9.186470e+11  8.720230e+11  9.842560e+11  1.011720e+12   \n",
      "2  2.049713e+10  1.913421e+10  1.811656e+10  1.875347e+10  1.805323e+10   \n",
      "3  8.514870e+11  7.607300e+11  6.905430e+11  6.837420e+11  7.416920e+11   \n",
      "4  1.457120e+11  1.161940e+11  1.011240e+11  1.221240e+11  1.013530e+11   \n",
      "\n",
      "           2019          2020  \n",
      "0           NaN           NaN  \n",
      "1  1.008380e+12  9.188150e+11  \n",
      "2  1.879945e+10  2.011614e+10  \n",
      "3  7.945720e+11  7.845880e+11  \n",
      "4  8.941719e+10  5.837598e+10  \n",
      "\n",
      "[5 rows x 65 columns] \n",
      " \n",
      " \n",
      "      Country Name Country Code     Indicator Name  Indicator Code  \\\n",
      "261        Kosovo          XKX  GDP (current US$)  NY.GDP.MKTP.CD   \n",
      "262   Yemen, Rep.          YEM  GDP (current US$)  NY.GDP.MKTP.CD   \n",
      "263  South Africa          ZAF  GDP (current US$)  NY.GDP.MKTP.CD   \n",
      "264        Zambia          ZMB  GDP (current US$)  NY.GDP.MKTP.CD   \n",
      "265      Zimbabwe          ZWE  GDP (current US$)  NY.GDP.MKTP.CD   \n",
      "\n",
      "             1960          1961          1962          1963          1964  \\\n",
      "261           NaN           NaN           NaN           NaN           NaN   \n",
      "262           NaN           NaN           NaN           NaN           NaN   \n",
      "263  7.575397e+09  7.972997e+09  8.497997e+09  9.423396e+09  1.037400e+10   \n",
      "264  7.130000e+08  6.962857e+08  6.931429e+08  7.187143e+08  8.394286e+08   \n",
      "265  1.052990e+09  1.096647e+09  1.117602e+09  1.159512e+09  1.217138e+09   \n",
      "\n",
      "             1965  ...          2011          2012          2013  \\\n",
      "261           NaN  ...  6.341737e+09  6.163785e+09  6.735731e+09   \n",
      "262           NaN  ...  3.272642e+10  3.540134e+10  4.041524e+10   \n",
      "263  1.133440e+10  ...  4.582020e+11  4.344010e+11  4.008860e+11   \n",
      "264  1.082857e+09  ...  2.345952e+10  2.550306e+10  2.803724e+10   \n",
      "265  1.311436e+09  ...  1.410192e+10  1.711485e+10  1.909102e+10   \n",
      "\n",
      "             2014          2015          2016          2017          2018  \\\n",
      "261  7.074658e+09  6.295820e+09  6.682833e+09  7.180813e+09  7.878509e+09   \n",
      "262  4.322859e+10  4.244510e+10  3.131737e+10  2.684013e+10  2.160614e+10   \n",
      "263  3.811990e+11  3.467100e+11  3.235860e+11  3.814490e+11  4.048420e+11   \n",
      "264  2.714102e+10  2.125122e+10  2.095841e+10  2.587360e+10  2.631159e+10   \n",
      "265  1.949552e+10  1.996312e+10  2.054868e+10  1.758489e+10  1.811554e+10   \n",
      "\n",
      "             2019          2020  \n",
      "261  7.899879e+09  7.716925e+09  \n",
      "262           NaN           NaN  \n",
      "263  3.879350e+11  3.354420e+11  \n",
      "264  2.330867e+10  1.811063e+10  \n",
      "265  1.928429e+10  1.805117e+10  \n",
      "\n",
      "[5 rows x 65 columns]\n"
     ]
    }
   ],
   "source": [
    "# exploring some observations (GDP)\n",
    "\n",
    "print(gdp.head(),\n",
    "      \"\\n\",\n",
    "      \"\\n\",\n",
    "      \"\\n\",\n",
    "      gdp.tail())"
   ]
  },
  {
   "cell_type": "code",
   "execution_count": 18,
   "metadata": {},
   "outputs": [
    {
     "name": "stdout",
     "output_type": "stream",
     "text": [
      "                  Country Name Country Code        Series Name  Series Code  \\\n",
      "0                        Aruba          ABW  Population, total  SP.POP.TOTL   \n",
      "1                  Afghanistan          AFG  Population, total  SP.POP.TOTL   \n",
      "2  Africa Eastern and Southern          AFE  Population, total  SP.POP.TOTL   \n",
      "3   Africa Western and Central          AFW  Population, total  SP.POP.TOTL   \n",
      "4                      Albania          ALB  Population, total  SP.POP.TOTL   \n",
      "\n",
      "        1960       1961       1962       1963       1964       1965  ...  \\\n",
      "0      54211      55438      56225      56695      57032      57360  ...   \n",
      "1    8996967    9169406    9351442    9543200    9744772    9956318  ...   \n",
      "2  130836765  134159786  137614644  141202036  144920186  148769974  ...   \n",
      "3   96396419   98407221  100506960  102691339  104953470  107289875  ...   \n",
      "4    1608800    1659800    1711319    1762621    1814135    1864791  ...   \n",
      "\n",
      "        2012       2013       2014       2015       2016       2017  \\\n",
      "0     102560     103159     103774     104341     104872     105366   \n",
      "1   31161378   32269592   33370804   34413603   35383028   36296111   \n",
      "2  547482863  562601578  578075373  593871847  609978946  626392880   \n",
      "3  370243017  380437896  390882979  401586651  412551299  423769930   \n",
      "4    2900401    2895092    2889104    2880703    2876101    2873457   \n",
      "\n",
      "        2018       2019       2020       2021  \n",
      "0     105845     106314        NaN        NaN  \n",
      "1   37171922   38041757   38928341   39835000  \n",
      "2  643090131  660046272  677243299  694664000  \n",
      "3  435229381  446911598  458803476  470898000  \n",
      "4    2866376    2854191    2837743    2832000  \n",
      "\n",
      "[5 rows x 66 columns] \n",
      " \n",
      " \n",
      "                                           Country Name Country Code  \\\n",
      "267                                                NaN          NaN   \n",
      "268                                                NaN          NaN   \n",
      "269                                                NaN          NaN   \n",
      "270  Data from database: Population estimates and p...          NaN   \n",
      "271                           Last Updated: 12/17/2021          NaN   \n",
      "\n",
      "    Series Name Series Code 1960 1961 1962 1963 1964 1965  ... 2012 2013 2014  \\\n",
      "267         NaN         NaN  NaN  NaN  NaN  NaN  NaN  NaN  ...  NaN  NaN  NaN   \n",
      "268         NaN         NaN  NaN  NaN  NaN  NaN  NaN  NaN  ...  NaN  NaN  NaN   \n",
      "269         NaN         NaN  NaN  NaN  NaN  NaN  NaN  NaN  ...  NaN  NaN  NaN   \n",
      "270         NaN         NaN  NaN  NaN  NaN  NaN  NaN  NaN  ...  NaN  NaN  NaN   \n",
      "271         NaN         NaN  NaN  NaN  NaN  NaN  NaN  NaN  ...  NaN  NaN  NaN   \n",
      "\n",
      "    2015 2016 2017 2018 2019 2020 2021  \n",
      "267  NaN  NaN  NaN  NaN  NaN  NaN  NaN  \n",
      "268  NaN  NaN  NaN  NaN  NaN  NaN  NaN  \n",
      "269  NaN  NaN  NaN  NaN  NaN  NaN  NaN  \n",
      "270  NaN  NaN  NaN  NaN  NaN  NaN  NaN  \n",
      "271  NaN  NaN  NaN  NaN  NaN  NaN  NaN  \n",
      "\n",
      "[5 rows x 66 columns]\n"
     ]
    }
   ],
   "source": [
    "# exploring some observations (population)\n",
    "\n",
    "print(pop.head(),\n",
    "      \"\\n\",\n",
    "      \"\\n\",\n",
    "      \"\\n\",\n",
    "      pop.tail())"
   ]
  },
  {
   "cell_type": "markdown",
   "metadata": {},
   "source": [
    "Population dataset has some metadata in the last few rows. We should remove any observations with NaN country Code"
   ]
  },
  {
   "cell_type": "markdown",
   "metadata": {},
   "source": [
    "### Data pre-processing"
   ]
  },
  {
   "cell_type": "code",
   "execution_count": 21,
   "metadata": {},
   "outputs": [],
   "source": [
    "# removing NaN Country Code in both datasets\n",
    "\n",
    "gdp_trim=gdp.dropna(subset='Country Code')\n",
    "\n",
    "pop_trim=pop.dropna(subset='Country Code')"
   ]
  },
  {
   "cell_type": "code",
   "execution_count": 22,
   "metadata": {},
   "outputs": [
    {
     "name": "stdout",
     "output_type": "stream",
     "text": [
      "Indicator Name\n",
      "GDP (current US$)    266\n",
      "Name: count, dtype: int64 Series Name\n",
      "Population, total    267\n",
      "Name: count, dtype: int64\n"
     ]
    }
   ],
   "source": [
    "# ensuring all indicators are the same\n",
    "\n",
    "print(gdp_trim['Indicator Name'].value_counts(),\n",
    "\n",
    "pop_trim['Series Name'].value_counts())"
   ]
  },
  {
   "cell_type": "code",
   "execution_count": 23,
   "metadata": {},
   "outputs": [
    {
     "name": "stdout",
     "output_type": "stream",
     "text": [
      "                  Country Name Country Code  year           gdp\n",
      "0                        Aruba          ABW  2001  1.920112e+09\n",
      "1  Africa Eastern and Southern          AFE  2001  2.586600e+11\n",
      "2                  Afghanistan          AFG  2001           NaN\n",
      "3   Africa Western and Central          AFW  2001  1.480120e+11\n",
      "4                       Angola          AGO  2001  8.936064e+09 \n",
      " \n",
      "                   Country Name Country Code  year        pop\n",
      "0                        Aruba          ABW  2001      92898\n",
      "1                  Afghanistan          AFG  2001   21606992\n",
      "2  Africa Eastern and Southern          AFE  2001  408522129\n",
      "3   Africa Western and Central          AFW  2001  274433894\n",
      "4                      Albania          ALB  2001    3060173\n"
     ]
    }
   ],
   "source": [
    "# selecting relevant columns in each dataset and pivoting to long format\n",
    "\n",
    "gdp_trim=gdp_trim[['Country Name','Country Code'] + [str(year) for year in range(2001, 2021)] ]\n",
    "\n",
    "pop_trim=pop_trim[['Country Name','Country Code'] + [str(year) for year in range(2001, 2021)] ]\n",
    "\n",
    "gdp_trim=pd.melt(gdp_trim, \n",
    "        id_vars=['Country Name', 'Country Code'], \n",
    "        value_vars=[str(year) for year in range(2001, 2021)],\n",
    "        var_name=\"year\",\n",
    "        value_name='gdp')\n",
    "\n",
    "pop_trim=pd.melt(pop_trim, \n",
    "        id_vars=['Country Name', 'Country Code'], \n",
    "        value_vars=[str(year) for year in range(2001, 2021)],\n",
    "        var_name=\"year\",\n",
    "        value_name='pop')\n",
    "\n",
    "# checking desired output\n",
    "\n",
    "print(\n",
    "    gdp_trim.head(),\"\\n\",\"\\n\",\n",
    "pop_trim.head())\n"
   ]
  },
  {
   "cell_type": "code",
   "execution_count": 24,
   "metadata": {},
   "outputs": [],
   "source": [
    "# merging both tables\n",
    "\n",
    "data_merged = pd.merge(gdp_trim, pop_trim, how='inner', on=['Country Name', 'Country Code', 'year']) # inner join as we can only use observations for which we have both gdp and pop"
   ]
  },
  {
   "cell_type": "code",
   "execution_count": null,
   "metadata": {},
   "outputs": [
    {
     "name": "stdout",
     "output_type": "stream",
     "text": [
      "<class 'pandas.core.frame.DataFrame'>\n",
      "RangeIndex: 5340 entries, 0 to 5339\n",
      "Data columns (total 5 columns):\n",
      " #   Column        Non-Null Count  Dtype  \n",
      "---  ------        --------------  -----  \n",
      " 0   Country Name  5340 non-null   object \n",
      " 1   Country Code  5340 non-null   object \n",
      " 2   year          5340 non-null   object \n",
      " 3   gdp           5102 non-null   float64\n",
      " 4   pop           5339 non-null   object \n",
      "dtypes: float64(1), object(4)\n",
      "memory usage: 208.7+ KB\n"
     ]
    },
    {
     "data": {
      "text/html": [
       "<div>\n",
       "<style scoped>\n",
       "    .dataframe tbody tr th:only-of-type {\n",
       "        vertical-align: middle;\n",
       "    }\n",
       "\n",
       "    .dataframe tbody tr th {\n",
       "        vertical-align: top;\n",
       "    }\n",
       "\n",
       "    .dataframe thead th {\n",
       "        text-align: right;\n",
       "    }\n",
       "</style>\n",
       "<table border=\"1\" class=\"dataframe\">\n",
       "  <thead>\n",
       "    <tr style=\"text-align: right;\">\n",
       "      <th></th>\n",
       "      <th>Total Missing Count</th>\n",
       "      <th>% of Total Observations</th>\n",
       "    </tr>\n",
       "    <tr>\n",
       "      <th>Numeric Feature</th>\n",
       "      <th></th>\n",
       "      <th></th>\n",
       "    </tr>\n",
       "  </thead>\n",
       "  <tbody>\n",
       "    <tr>\n",
       "      <th>gdp</th>\n",
       "      <td>238</td>\n",
       "      <td>0.044569</td>\n",
       "    </tr>\n",
       "    <tr>\n",
       "      <th>pop</th>\n",
       "      <td>1</td>\n",
       "      <td>0.000187</td>\n",
       "    </tr>\n",
       "    <tr>\n",
       "      <th>Country Name</th>\n",
       "      <td>0</td>\n",
       "      <td>0.000000</td>\n",
       "    </tr>\n",
       "    <tr>\n",
       "      <th>Country Code</th>\n",
       "      <td>0</td>\n",
       "      <td>0.000000</td>\n",
       "    </tr>\n",
       "    <tr>\n",
       "      <th>year</th>\n",
       "      <td>0</td>\n",
       "      <td>0.000000</td>\n",
       "    </tr>\n",
       "  </tbody>\n",
       "</table>\n",
       "</div>"
      ],
      "text/plain": [
       "                  Total Missing Count  % of Total Observations\n",
       " Numeric Feature                                              \n",
       "gdp                               238                 0.044569\n",
       "pop                                 1                 0.000187\n",
       "Country Name                        0                 0.000000\n",
       "Country Code                        0                 0.000000\n",
       "year                                0                 0.000000"
      ]
     },
     "execution_count": 26,
     "metadata": {},
     "output_type": "execute_result"
    }
   ],
   "source": [
    "# further data checks on missing values\n",
    "\n",
    "total = data_merged.isnull().sum().sort_values(ascending=False)\n",
    "percent = (data_merged.isnull().sum()/data_merged.isnull().count()).sort_values(ascending=False)\n",
    "missing_data = pd.concat([total, percent], axis=1,join='outer', keys=['Total Missing Count', '% of Total Observations'])\n",
    "missing_data.index.name =' Numeric Feature'\n",
    "\n",
    "missing_data.head(20)"
   ]
  },
  {
   "cell_type": "markdown",
   "metadata": {},
   "source": [
    "Need to remove observations with missing values for either gdp or pop."
   ]
  },
  {
   "cell_type": "code",
   "execution_count": 28,
   "metadata": {},
   "outputs": [
    {
     "data": {
      "text/html": [
       "<div>\n",
       "<style scoped>\n",
       "    .dataframe tbody tr th:only-of-type {\n",
       "        vertical-align: middle;\n",
       "    }\n",
       "\n",
       "    .dataframe tbody tr th {\n",
       "        vertical-align: top;\n",
       "    }\n",
       "\n",
       "    .dataframe thead th {\n",
       "        text-align: right;\n",
       "    }\n",
       "</style>\n",
       "<table border=\"1\" class=\"dataframe\">\n",
       "  <thead>\n",
       "    <tr style=\"text-align: right;\">\n",
       "      <th></th>\n",
       "      <th>Total Missing Count</th>\n",
       "      <th>% of Total Observations</th>\n",
       "    </tr>\n",
       "    <tr>\n",
       "      <th>Numeric Feature</th>\n",
       "      <th></th>\n",
       "      <th></th>\n",
       "    </tr>\n",
       "  </thead>\n",
       "  <tbody>\n",
       "    <tr>\n",
       "      <th>Country Name</th>\n",
       "      <td>0</td>\n",
       "      <td>0.0</td>\n",
       "    </tr>\n",
       "    <tr>\n",
       "      <th>Country Code</th>\n",
       "      <td>0</td>\n",
       "      <td>0.0</td>\n",
       "    </tr>\n",
       "    <tr>\n",
       "      <th>year</th>\n",
       "      <td>0</td>\n",
       "      <td>0.0</td>\n",
       "    </tr>\n",
       "    <tr>\n",
       "      <th>gdp</th>\n",
       "      <td>0</td>\n",
       "      <td>0.0</td>\n",
       "    </tr>\n",
       "    <tr>\n",
       "      <th>pop</th>\n",
       "      <td>0</td>\n",
       "      <td>0.0</td>\n",
       "    </tr>\n",
       "  </tbody>\n",
       "</table>\n",
       "</div>"
      ],
      "text/plain": [
       "                  Total Missing Count  % of Total Observations\n",
       " Numeric Feature                                              \n",
       "Country Name                        0                      0.0\n",
       "Country Code                        0                      0.0\n",
       "year                                0                      0.0\n",
       "gdp                                 0                      0.0\n",
       "pop                                 0                      0.0"
      ]
     },
     "execution_count": 28,
     "metadata": {},
     "output_type": "execute_result"
    }
   ],
   "source": [
    "# removing observations with missing values for either gdp or pop and rechecking counts\n",
    "\n",
    "data_merged=data_merged.dropna(subset=['gdp', 'pop'])\n",
    "\n",
    "# further data checks on missing values\n",
    "\n",
    "total = data_merged.isnull().sum().sort_values(ascending=False)\n",
    "percent = (data_merged.isnull().sum()/data_merged.isnull().count()).sort_values(ascending=False)\n",
    "missing_data = pd.concat([total, percent], axis=1,join='outer', keys=['Total Missing Count', '% of Total Observations'])\n",
    "missing_data.index.name =' Numeric Feature'\n",
    "\n",
    "missing_data.head(20)"
   ]
  },
  {
   "cell_type": "code",
   "execution_count": 36,
   "metadata": {},
   "outputs": [
    {
     "name": "stdout",
     "output_type": "stream",
     "text": [
      "<class 'pandas.core.frame.DataFrame'>\n",
      "Index: 5102 entries, 0 to 5339\n",
      "Data columns (total 5 columns):\n",
      " #   Column        Non-Null Count  Dtype  \n",
      "---  ------        --------------  -----  \n",
      " 0   Country Name  5102 non-null   object \n",
      " 1   Country Code  5102 non-null   object \n",
      " 2   year          5102 non-null   object \n",
      " 3   gdp           5102 non-null   float64\n",
      " 4   pop           5102 non-null   object \n",
      "dtypes: float64(1), object(4)\n",
      "memory usage: 239.2+ KB\n"
     ]
    }
   ],
   "source": [
    "# rechecking data\n",
    "\n",
    "data_merged.info()"
   ]
  },
  {
   "cell_type": "markdown",
   "metadata": {},
   "source": [
    "Population still showing as object, why?"
   ]
  },
  {
   "cell_type": "code",
   "execution_count": 38,
   "metadata": {},
   "outputs": [
    {
     "data": {
      "text/plain": [
       "4647         ..\n",
       "372          ..\n",
       "373          ..\n",
       "375          ..\n",
       "3040         ..\n",
       "         ...   \n",
       "774       99591\n",
       "2222    9964470\n",
       "4658    9965322\n",
       "2772    9971727\n",
       "1314       9997\n",
       "Name: pop, Length: 5102, dtype: object"
      ]
     },
     "execution_count": 38,
     "metadata": {},
     "output_type": "execute_result"
    }
   ],
   "source": [
    "data_merged['pop'].sort_values()"
   ]
  },
  {
   "cell_type": "markdown",
   "metadata": {},
   "source": [
    "Some hidden missing values of \"..\", will remove these"
   ]
  },
  {
   "cell_type": "code",
   "execution_count": 45,
   "metadata": {},
   "outputs": [],
   "source": [
    "# removing remaining missing value for population and recode variable\n",
    "\n",
    "data_merged = data_merged[data_merged['pop'] != \"..\"]\n",
    "\n",
    "data_merged['pop']=data_merged['pop'].astype(float)"
   ]
  },
  {
   "cell_type": "code",
   "execution_count": 46,
   "metadata": {},
   "outputs": [],
   "source": [
    "# compute GDP per capita\n",
    "\n",
    "data_merged['gdp_per_capita']=data_merged['gdp']/data_merged['pop']"
   ]
  },
  {
   "cell_type": "markdown",
   "metadata": {},
   "source": [
    "### Correlation"
   ]
  },
  {
   "cell_type": "code",
   "execution_count": 76,
   "metadata": {},
   "outputs": [
    {
     "data": {
      "text/html": [
       "<div>\n",
       "<style scoped>\n",
       "    .dataframe tbody tr th:only-of-type {\n",
       "        vertical-align: middle;\n",
       "    }\n",
       "\n",
       "    .dataframe tbody tr th {\n",
       "        vertical-align: top;\n",
       "    }\n",
       "\n",
       "    .dataframe thead th {\n",
       "        text-align: right;\n",
       "    }\n",
       "</style>\n",
       "<table border=\"1\" class=\"dataframe\">\n",
       "  <thead>\n",
       "    <tr style=\"text-align: right;\">\n",
       "      <th></th>\n",
       "      <th>Country Code</th>\n",
       "      <th>Country Name</th>\n",
       "      <th>gdp_per_capita</th>\n",
       "      <th>pop</th>\n",
       "    </tr>\n",
       "  </thead>\n",
       "  <tbody>\n",
       "    <tr>\n",
       "      <th>0</th>\n",
       "      <td>ABW</td>\n",
       "      <td>Aruba</td>\n",
       "      <td>25133.56</td>\n",
       "      <td>101231.94</td>\n",
       "    </tr>\n",
       "    <tr>\n",
       "      <th>1</th>\n",
       "      <td>AFE</td>\n",
       "      <td>Africa Eastern and Southern</td>\n",
       "      <td>1361.69</td>\n",
       "      <td>532128233.15</td>\n",
       "    </tr>\n",
       "    <tr>\n",
       "      <th>2</th>\n",
       "      <td>AFG</td>\n",
       "      <td>Afghanistan</td>\n",
       "      <td>439.06</td>\n",
       "      <td>30665934.37</td>\n",
       "    </tr>\n",
       "    <tr>\n",
       "      <th>3</th>\n",
       "      <td>AFW</td>\n",
       "      <td>Africa Western and Central</td>\n",
       "      <td>1492.34</td>\n",
       "      <td>359471406.95</td>\n",
       "    </tr>\n",
       "    <tr>\n",
       "      <th>4</th>\n",
       "      <td>AGO</td>\n",
       "      <td>Angola</td>\n",
       "      <td>3103.86</td>\n",
       "      <td>24186547.10</td>\n",
       "    </tr>\n",
       "  </tbody>\n",
       "</table>\n",
       "</div>"
      ],
      "text/plain": [
       "  Country Code                 Country Name  gdp_per_capita          pop\n",
       "0          ABW                        Aruba        25133.56    101231.94\n",
       "1          AFE  Africa Eastern and Southern         1361.69 532128233.15\n",
       "2          AFG                  Afghanistan          439.06  30665934.37\n",
       "3          AFW   Africa Western and Central         1492.34 359471406.95\n",
       "4          AGO                       Angola         3103.86  24186547.10"
      ]
     },
     "execution_count": 76,
     "metadata": {},
     "output_type": "execute_result"
    }
   ],
   "source": [
    "####COMPUTE MEANS ACROSS YEARS\n",
    "\n",
    "data_means=data_merged.groupby(['Country Code', 'Country Name']).agg({'gdp_per_capita': 'mean', 'pop':'mean'}).reset_index()\n",
    "\n",
    "pd.options.display.float_format = '{:.2f}'.format # preventing scientific notation\n",
    "\n",
    "data_means.head()\n"
   ]
  },
  {
   "cell_type": "code",
   "execution_count": 77,
   "metadata": {},
   "outputs": [
    {
     "data": {
      "text/plain": [
       "<Axes: xlabel='pop', ylabel='gdp_per_capita'>"
      ]
     },
     "execution_count": 77,
     "metadata": {},
     "output_type": "execute_result"
    },
    {
     "data": {
      "image/png": "[encoded data removed]",
      "text/plain": [
       "<Figure size 640x480 with 1 Axes>"
      ]
     },
     "metadata": {},
     "output_type": "display_data"
    }
   ],
   "source": [
    "# scatter plots\n",
    "\n",
    "\n",
    "sns.scatterplot(data_means, x='pop',y='gdp_per_capita')"
   ]
  },
  {
   "cell_type": "markdown",
   "metadata": {},
   "source": [
    "There are some outliers with very high populations. Let's explore these."
   ]
  },
  {
   "cell_type": "code",
   "execution_count": 81,
   "metadata": {},
   "outputs": [
    {
     "data": {
      "text/html": [
       "<div>\n",
       "<style scoped>\n",
       "    .dataframe tbody tr th:only-of-type {\n",
       "        vertical-align: middle;\n",
       "    }\n",
       "\n",
       "    .dataframe tbody tr th {\n",
       "        vertical-align: top;\n",
       "    }\n",
       "\n",
       "    .dataframe thead th {\n",
       "        text-align: right;\n",
       "    }\n",
       "</style>\n",
       "<table border=\"1\" class=\"dataframe\">\n",
       "  <thead>\n",
       "    <tr style=\"text-align: right;\">\n",
       "      <th></th>\n",
       "      <th>pop</th>\n",
       "      <th>Country Name</th>\n",
       "    </tr>\n",
       "  </thead>\n",
       "  <tbody>\n",
       "    <tr>\n",
       "      <th>249</th>\n",
       "      <td>6971251911.90</td>\n",
       "      <td>World</td>\n",
       "    </tr>\n",
       "    <tr>\n",
       "      <th>101</th>\n",
       "      <td>5842844151.10</td>\n",
       "      <td>IDA &amp; IBRD total</td>\n",
       "    </tr>\n",
       "    <tr>\n",
       "      <th>134</th>\n",
       "      <td>5790143516.50</td>\n",
       "      <td>Low &amp; middle income</td>\n",
       "    </tr>\n",
       "    <tr>\n",
       "      <th>149</th>\n",
       "      <td>5266190891.30</td>\n",
       "      <td>Middle income</td>\n",
       "    </tr>\n",
       "    <tr>\n",
       "      <th>62</th>\n",
       "      <td>2927291314.45</td>\n",
       "      <td>Early-demographic dividend</td>\n",
       "    </tr>\n",
       "    <tr>\n",
       "      <th>...</th>\n",
       "      <td>...</td>\n",
       "      <td>...</td>\n",
       "    </tr>\n",
       "    <tr>\n",
       "      <th>219</th>\n",
       "      <td>32102.40</td>\n",
       "      <td>Turks and Caicos Islands</td>\n",
       "    </tr>\n",
       "    <tr>\n",
       "      <th>203</th>\n",
       "      <td>31179.32</td>\n",
       "      <td>San Marino</td>\n",
       "    </tr>\n",
       "    <tr>\n",
       "      <th>181</th>\n",
       "      <td>18497.60</td>\n",
       "      <td>Palau</td>\n",
       "    </tr>\n",
       "    <tr>\n",
       "      <th>236</th>\n",
       "      <td>10604.45</td>\n",
       "      <td>Tuvalu</td>\n",
       "    </tr>\n",
       "    <tr>\n",
       "      <th>172</th>\n",
       "      <td>10401.09</td>\n",
       "      <td>Nauru</td>\n",
       "    </tr>\n",
       "  </tbody>\n",
       "</table>\n",
       "<p>256 rows × 2 columns</p>\n",
       "</div>"
      ],
      "text/plain": [
       "              pop                Country Name\n",
       "249 6971251911.90                       World\n",
       "101 5842844151.10            IDA & IBRD total\n",
       "134 5790143516.50         Low & middle income\n",
       "149 5266190891.30               Middle income\n",
       "62  2927291314.45  Early-demographic dividend\n",
       "..            ...                         ...\n",
       "219      32102.40    Turks and Caicos Islands\n",
       "203      31179.32                  San Marino\n",
       "181      18497.60                       Palau\n",
       "236      10604.45                      Tuvalu\n",
       "172      10401.09                       Nauru\n",
       "\n",
       "[256 rows x 2 columns]"
      ]
     },
     "execution_count": 81,
     "metadata": {},
     "output_type": "execute_result"
    }
   ],
   "source": [
    "data_means[['pop', 'Country Name']].sort_values('pop', ascending=False)"
   ]
  },
  {
   "cell_type": "markdown",
   "metadata": {},
   "source": [
    "Clearly some observations for entire regions rather that countries. Let's investigate these manually and remove anything that represents a supra-national aggregate (allowing for smaller sub-national regions to remain as they likely represent specific geographic/economical settings)"
   ]
  },
  {
   "cell_type": "code",
   "execution_count": 99,
   "metadata": {},
   "outputs": [
    {
     "name": "stdout",
     "output_type": "stream",
     "text": [
      "                       Country Name Country Code\n",
      "0                             Aruba          ABW\n",
      "2                       Afghanistan          AFG\n",
      "4                            Angola          AGO\n",
      "5                           Albania          ALB\n",
      "6                           Andorra          AND\n",
      "8              United Arab Emirates          ARE\n",
      "9                         Argentina          ARG\n",
      "10                          Armenia          ARM\n",
      "11                   American Samoa          ASM\n",
      "12              Antigua and Barbuda          ATG\n",
      "13                        Australia          AUS\n",
      "14                          Austria          AUT\n",
      "15                       Azerbaijan          AZE\n",
      "16                          Burundi          BDI\n",
      "17                          Belgium          BEL\n",
      "18                            Benin          BEN\n",
      "19                     Burkina Faso          BFA\n",
      "20                       Bangladesh          BGD\n",
      "21                         Bulgaria          BGR\n",
      "22                          Bahrain          BHR\n",
      "23                     Bahamas, The          BHS\n",
      "24           Bosnia and Herzegovina          BIH\n",
      "25                          Belarus          BLR\n",
      "26                           Belize          BLZ\n",
      "27                          Bermuda          BMU\n",
      "28                          Bolivia          BOL\n",
      "29                           Brazil          BRA\n",
      "30                         Barbados          BRB\n",
      "31                Brunei Darussalam          BRN\n",
      "32                           Bhutan          BTN\n",
      "33                         Botswana          BWA\n",
      "34         Central African Republic          CAF\n",
      "35                           Canada          CAN\n",
      "37                      Switzerland          CHE\n",
      "39                            Chile          CHL\n",
      "40                            China          CHN\n",
      "41                    Cote d'Ivoire          CIV\n",
      "42                         Cameroon          CMR\n",
      "43                 Congo, Dem. Rep.          COD\n",
      "44                      Congo, Rep.          COG\n",
      "45                         Colombia          COL\n",
      "46                          Comoros          COM\n",
      "47                       Cabo Verde          CPV\n",
      "48                       Costa Rica          CRI\n",
      "50                             Cuba          CUB\n",
      "51                          Curacao          CUW\n",
      "52                   Cayman Islands          CYM\n",
      "53                           Cyprus          CYP\n",
      "54                   Czech Republic          CZE\n",
      "55                          Germany          DEU\n",
      "56                         Djibouti          DJI\n",
      "57                         Dominica          DMA\n",
      "58                          Denmark          DNK\n",
      "59               Dominican Republic          DOM\n",
      "60                          Algeria          DZA\n",
      "66                          Ecuador          ECU\n",
      "67                 Egypt, Arab Rep.          EGY\n",
      "69                          Eritrea          ERI\n",
      "70                            Spain          ESP\n",
      "71                          Estonia          EST\n",
      "72                         Ethiopia          ETH\n",
      "75                          Finland          FIN\n",
      "76                             Fiji          FJI\n",
      "77                           France          FRA\n",
      "78                    Faroe Islands          FRO\n",
      "79            Micronesia, Fed. Sts.          FSM\n",
      "80                            Gabon          GAB\n",
      "81                   United Kingdom          GBR\n",
      "82                          Georgia          GEO\n",
      "83                            Ghana          GHA\n",
      "84                           Guinea          GIN\n",
      "85                      Gambia, The          GMB\n",
      "86                    Guinea-Bissau          GNB\n",
      "87                Equatorial Guinea          GNQ\n",
      "88                           Greece          GRC\n",
      "89                          Grenada          GRD\n",
      "90                        Greenland          GRL\n",
      "91                        Guatemala          GTM\n",
      "92                             Guam          GUM\n",
      "93                           Guyana          GUY\n",
      "95             Hong Kong SAR, China          HKG\n",
      "96                         Honduras          HND\n",
      "98                          Croatia          HRV\n",
      "99                            Haiti          HTI\n",
      "100                         Hungary          HUN\n",
      "102                       Indonesia          IDN\n",
      "103                     Isle of Man          IMN\n",
      "104                           India          IND\n",
      "105                         Ireland          IRL\n",
      "106              Iran, Islamic Rep.          IRN\n",
      "107                            Iraq          IRQ\n",
      "108                         Iceland          ISL\n",
      "109                          Israel          ISR\n",
      "110                           Italy          ITA\n",
      "111                         Jamaica          JAM\n",
      "112                          Jordan          JOR\n",
      "113                           Japan          JPN\n",
      "114                      Kazakhstan          KAZ\n",
      "115                           Kenya          KEN\n",
      "116                 Kyrgyz Republic          KGZ\n",
      "117                        Cambodia          KHM\n",
      "118                        Kiribati          KIR\n",
      "119             St. Kitts and Nevis          KNA\n",
      "120                     Korea, Rep.          KOR\n",
      "121                          Kuwait          KWT\n",
      "123                         Lao PDR          LAO\n",
      "124                         Lebanon          LBN\n",
      "125                         Liberia          LBR\n",
      "126                           Libya          LBY\n",
      "127                       St. Lucia          LCA\n",
      "131                   Liechtenstein          LIE\n",
      "132                       Sri Lanka          LKA\n",
      "135                         Lesotho          LSO\n",
      "137                       Lithuania          LTU\n",
      "138                      Luxembourg          LUX\n",
      "139                          Latvia          LVA\n",
      "140                Macao SAR, China          MAC\n",
      "141                         Morocco          MAR\n",
      "142                          Monaco          MCO\n",
      "143                         Moldova          MDA\n",
      "144                      Madagascar          MDG\n",
      "145                        Maldives          MDV\n",
      "147                          Mexico          MEX\n",
      "148                Marshall Islands          MHL\n",
      "150                 North Macedonia          MKD\n",
      "151                            Mali          MLI\n",
      "152                           Malta          MLT\n",
      "153                         Myanmar          MMR\n",
      "155                      Montenegro          MNE\n",
      "156                        Mongolia          MNG\n",
      "157        Northern Mariana Islands          MNP\n",
      "158                      Mozambique          MOZ\n",
      "159                      Mauritania          MRT\n",
      "160                       Mauritius          MUS\n",
      "161                          Malawi          MWI\n",
      "162                        Malaysia          MYS\n",
      "164                         Namibia          NAM\n",
      "165                   New Caledonia          NCL\n",
      "166                           Niger          NER\n",
      "167                         Nigeria          NGA\n",
      "168                       Nicaragua          NIC\n",
      "169                     Netherlands          NLD\n",
      "170                          Norway          NOR\n",
      "171                           Nepal          NPL\n",
      "172                           Nauru          NRU\n",
      "173                     New Zealand          NZL\n",
      "175                            Oman          OMN\n",
      "177                        Pakistan          PAK\n",
      "178                          Panama          PAN\n",
      "179                            Peru          PER\n",
      "180                     Philippines          PHL\n",
      "181                           Palau          PLW\n",
      "182                Papua New Guinea          PNG\n",
      "183                          Poland          POL\n",
      "185                     Puerto Rico          PRI\n",
      "186                        Portugal          PRT\n",
      "187                        Paraguay          PRY\n",
      "188              West Bank and Gaza          PSE\n",
      "191                           Qatar          QAT\n",
      "192                         Romania          ROU\n",
      "193              Russian Federation          RUS\n",
      "194                          Rwanda          RWA\n",
      "195                      South Asia          SAS\n",
      "196                    Saudi Arabia          SAU\n",
      "197                           Sudan          SDN\n",
      "198                         Senegal          SEN\n",
      "199                       Singapore          SGP\n",
      "200                 Solomon Islands          SLB\n",
      "201                    Sierra Leone          SLE\n",
      "202                     El Salvador          SLV\n",
      "203                      San Marino          SMR\n",
      "204                         Somalia          SOM\n",
      "205                          Serbia          SRB\n",
      "207                     South Sudan          SSD\n",
      "210           Sao Tome and Principe          STP\n",
      "211                        Suriname          SUR\n",
      "212                 Slovak Republic          SVK\n",
      "213                        Slovenia          SVN\n",
      "214                          Sweden          SWE\n",
      "215                        Eswatini          SWZ\n",
      "216       Sint Maarten (Dutch part)          SXM\n",
      "217                      Seychelles          SYC\n",
      "218            Syrian Arab Republic          SYR\n",
      "219        Turks and Caicos Islands          TCA\n",
      "220                            Chad          TCD\n",
      "223                            Togo          TGO\n",
      "224                        Thailand          THA\n",
      "225                      Tajikistan          TJK\n",
      "226                    Turkmenistan          TKM\n",
      "228                     Timor-Leste          TLS\n",
      "230                           Tonga          TON\n",
      "233             Trinidad and Tobago          TTO\n",
      "234                         Tunisia          TUN\n",
      "235                          Turkey          TUR\n",
      "236                          Tuvalu          TUV\n",
      "237                        Tanzania          TZA\n",
      "238                          Uganda          UGA\n",
      "239                         Ukraine          UKR\n",
      "241                         Uruguay          URY\n",
      "242                   United States          USA\n",
      "243                      Uzbekistan          UZB\n",
      "244  St. Vincent and the Grenadines          VCT\n",
      "245                   Venezuela, RB          VEN\n",
      "246           Virgin Islands (U.S.)          VIR\n",
      "247                         Vietnam          VNM\n",
      "248                         Vanuatu          VUT\n",
      "250                           Samoa          WSM\n",
      "251                          Kosovo          XKX\n",
      "252                     Yemen, Rep.          YEM\n",
      "253                    South Africa          ZAF\n",
      "254                          Zambia          ZMB\n",
      "255                        Zimbabwe          ZWE\n"
     ]
    }
   ],
   "source": [
    "# removing regions which do not represent individual countries\n",
    "\n",
    "pd.set_option('display.max_rows', None)\n",
    "\n",
    "print(data_means[['Country Name', 'Country Code']])\n",
    "\n",
    "pd.set_option('display.max_rows', 10)\n",
    "\n",
    "codes_to_remove=['AFE', \n",
    "                 'AFW', \n",
    "                 'ARB', \n",
    "                 'CEB', \n",
    "                 'CHI', \n",
    "                 'CSS', \n",
    "                 'EAP', \n",
    "                 'EAR', \n",
    "                 'EAS', \n",
    "                 'ECA',\n",
    "                 'ECS',\n",
    "                 'EMU', \n",
    "                 'EUU',\n",
    "                 'FCS',\n",
    "                 'HIC',\n",
    "                 'HPC',\n",
    "                 'IBT',\n",
    "                 'LAC',\n",
    "                 'LCN',\n",
    "                 'LDC',\n",
    "                 'LIC',\n",
    "                 'LMC',\n",
    "                 'LMY',\n",
    "                 'LTE',\n",
    "                 'MEA',\n",
    "                 'MIC',\n",
    "                 'MNA',\n",
    "                 'NAC', \n",
    "                 'OED',\n",
    "                 'OSS',\n",
    "                 'PRE',\n",
    "                 'PSS',\n",
    "                 'PST',\n",
    "                 'SAS',\n",
    "                 'SSF',\n",
    "                 'SST',\n",
    "                 'TEA',\n",
    "                 'TEC',\n",
    "                 'TLA',\n",
    "                 'TMN',\n",
    "                 'TSA',\n",
    "                 'TSS',\n",
    "                 'UMC',\n",
    "                 'WLD']\n",
    "\n",
    "data_means=data_means[~data_means['Country Code'].isin(codes_to_remove)]\n"
   ]
  },
  {
   "cell_type": "code",
   "execution_count": 109,
   "metadata": {},
   "outputs": [
    {
     "name": "stderr",
     "output_type": "stream",
     "text": [
      "C:\\Users\\guilhermep\\AppData\\Local\\Temp\\ipykernel_11724\\641821359.py:8: UserWarning: set_ticklabels() should only be used with a fixed number of ticks, i.e. after set_ticks() or using a FixedLocator.\n",
      "  ax.set_xticklabels(ax.get_xticks(),fontsize=5)\n"
     ]
    },
    {
     "data": {
      "image/png": "[encoded data removed]",
      "text/plain": [
       "<Figure size 640x480 with 1 Axes>"
      ]
     },
     "metadata": {},
     "output_type": "display_data"
    }
   ],
   "source": [
    "# scatter plots\n",
    "\n",
    "ax=sns.scatterplot(data_means, x='pop',y='gdp_per_capita')\n",
    "\n",
    "\n",
    "plt.ticklabel_format(style='plain', axis='both')\n",
    "\n",
    "ax.set_xticklabels(ax.get_xticks(),fontsize=5)\n",
    "\n",
    "plt.show()"
   ]
  },
  {
   "cell_type": "markdown",
   "metadata": {},
   "source": [
    "Still some outliers remaining, let's explore these further."
   ]
  },
  {
   "cell_type": "code",
   "execution_count": 110,
   "metadata": {},
   "outputs": [
    {
     "data": {
      "text/html": [
       "<div>\n",
       "<style scoped>\n",
       "    .dataframe tbody tr th:only-of-type {\n",
       "        vertical-align: middle;\n",
       "    }\n",
       "\n",
       "    .dataframe tbody tr th {\n",
       "        vertical-align: top;\n",
       "    }\n",
       "\n",
       "    .dataframe thead th {\n",
       "        text-align: right;\n",
       "    }\n",
       "</style>\n",
       "<table border=\"1\" class=\"dataframe\">\n",
       "  <thead>\n",
       "    <tr style=\"text-align: right;\">\n",
       "      <th></th>\n",
       "      <th>pop</th>\n",
       "      <th>Country Name</th>\n",
       "    </tr>\n",
       "  </thead>\n",
       "  <tbody>\n",
       "    <tr>\n",
       "      <th>40</th>\n",
       "      <td>1344129718.10</td>\n",
       "      <td>China</td>\n",
       "    </tr>\n",
       "    <tr>\n",
       "      <th>104</th>\n",
       "      <td>1236168431.75</td>\n",
       "      <td>India</td>\n",
       "    </tr>\n",
       "    <tr>\n",
       "      <th>242</th>\n",
       "      <td>309216015.30</td>\n",
       "      <td>United States</td>\n",
       "    </tr>\n",
       "    <tr>\n",
       "      <th>102</th>\n",
       "      <td>243809914.65</td>\n",
       "      <td>Indonesia</td>\n",
       "    </tr>\n",
       "    <tr>\n",
       "      <th>29</th>\n",
       "      <td>196037653.80</td>\n",
       "      <td>Brazil</td>\n",
       "    </tr>\n",
       "    <tr>\n",
       "      <th>...</th>\n",
       "      <td>...</td>\n",
       "      <td>...</td>\n",
       "    </tr>\n",
       "    <tr>\n",
       "      <th>219</th>\n",
       "      <td>32102.40</td>\n",
       "      <td>Turks and Caicos Islands</td>\n",
       "    </tr>\n",
       "    <tr>\n",
       "      <th>203</th>\n",
       "      <td>31179.32</td>\n",
       "      <td>San Marino</td>\n",
       "    </tr>\n",
       "    <tr>\n",
       "      <th>181</th>\n",
       "      <td>18497.60</td>\n",
       "      <td>Palau</td>\n",
       "    </tr>\n",
       "    <tr>\n",
       "      <th>236</th>\n",
       "      <td>10604.45</td>\n",
       "      <td>Tuvalu</td>\n",
       "    </tr>\n",
       "    <tr>\n",
       "      <th>172</th>\n",
       "      <td>10401.09</td>\n",
       "      <td>Nauru</td>\n",
       "    </tr>\n",
       "  </tbody>\n",
       "</table>\n",
       "<p>211 rows × 2 columns</p>\n",
       "</div>"
      ],
      "text/plain": [
       "              pop              Country Name\n",
       "40  1344129718.10                     China\n",
       "104 1236168431.75                     India\n",
       "242  309216015.30             United States\n",
       "102  243809914.65                 Indonesia\n",
       "29   196037653.80                    Brazil\n",
       "..            ...                       ...\n",
       "219      32102.40  Turks and Caicos Islands\n",
       "203      31179.32                San Marino\n",
       "181      18497.60                     Palau\n",
       "236      10604.45                    Tuvalu\n",
       "172      10401.09                     Nauru\n",
       "\n",
       "[211 rows x 2 columns]"
      ]
     },
     "execution_count": 110,
     "metadata": {},
     "output_type": "execute_result"
    }
   ],
   "source": [
    "data_means[['pop', 'Country Name']].sort_values('pop', ascending=False)"
   ]
  },
  {
   "cell_type": "markdown",
   "metadata": {},
   "source": [
    "Observations as expected. Given the spread seen it is likely that a logaritmic transformation would improve data discrimination. Let's try this"
   ]
  },
  {
   "cell_type": "code",
   "execution_count": 125,
   "metadata": {},
   "outputs": [],
   "source": [
    "# log 10 transformation\n",
    "\n",
    "data_means=data_means.assign(pop_log = np.log10(data_means['pop']),\n",
    "                             gdp_per_capita_log=np.log10(data_means['gdp_per_capita']))"
   ]
  },
  {
   "cell_type": "code",
   "execution_count": 139,
   "metadata": {},
   "outputs": [
    {
     "data": {
      "text/plain": [
       "Text(0.05, 0.8, \"Pearson's r =-0.31\")"
      ]
     },
     "execution_count": 139,
     "metadata": {},
     "output_type": "execute_result"
    },
    {
     "data": {
      "image/png": "[encoded data removed]",
      "text/plain": [
       "<Figure size 640x480 with 1 Axes>"
      ]
     },
     "metadata": {},
     "output_type": "display_data"
    }
   ],
   "source": [
    "# scatter plot\n",
    "\n",
    "\n",
    "\n",
    "ax=sns.regplot(x=data_means.pop_log,\n",
    "            y=data_means.gdp_per_capita_log)\n",
    "\n",
    "ax.set_title(\"Mean population vs GDP per capita (2001-2021)\")\n",
    "ax.set_xlabel(\"Mean population (log 10)\")\n",
    "ax.set_ylabel(\"GDP per capita (log 10)\")\n",
    "\n",
    "r, p = pearsonr(x=data_means.pop_log, y=data_means.gdp_per_capita_log)\n",
    "plt.text(.05, .8, \"Pearson's r ={:.2f}\".format(r), transform=ax.transAxes)\n"
   ]
  },
  {
   "cell_type": "markdown",
   "metadata": {},
   "source": [
    "The scatterplot, linear regression line, and Pearson's coefficient suggest a moderate inverse linear association between average country population and average GDP per capita between 2001 and 2021."
   ]
  },
  {
   "cell_type": "markdown",
   "metadata": {},
   "source": [
    "# Task B - linear regression"
   ]
  },
  {
   "cell_type": "markdown",
   "metadata": {},
   "source": [
    "Perform linear regression, where the independent variable is the mean population of each country (from 2001 to 2021) and dependent variable is mean per capita GDP (from 2001 to 2021)"
   ]
  },
  {
   "cell_type": "code",
   "execution_count": null,
   "metadata": {},
   "outputs": [
    {
     "name": "stdout",
     "output_type": "stream",
     "text": [
      "Log-Transformed Slope: -0.19470488724763915\n",
      "Log-Transformed Intercept: 5.0430067237137255\n",
      "Root mean squared error (RMSE): 0.6248642017949047\n",
      "R-squared: 0.09313483722462801\n"
     ]
    }
   ],
   "source": [
    "# linear regression\n",
    "\n",
    "x_train = data_means.pop_log.values.reshape(-1, 1)\n",
    "y_train=data_means.gdp_per_capita_log.values\n",
    "\n",
    "model=LinearRegression()\n",
    "\n",
    "model.fit(x_train, y_train)\n",
    "\n",
    "# calculate slope and intercept \n",
    "slope_log = model.coef_[0]\n",
    "intercept_log = model.intercept_\n",
    "\n",
    "print(f\"Log-Transformed Slope: {slope_log}\")\n",
    "print(f\"Log-Transformed Intercept: {intercept_log}\")\n",
    "\n",
    "# calculate model performance\n",
    "\n",
    "# Make predictions on the test set\n",
    "y_pred = model.predict(x_train)\n",
    "\n",
    "# Calculate and print regression model metrics\n",
    "mse = mean_squared_error(y_train, y_pred)\n",
    "r2 = r2_score(y_train, y_pred)\n",
    "print(f\"Root mean squared error (RMSE): {math.sqrt(mse)}\")\n",
    "print(f\"R-squared: {r2}\")\n",
    "\n"
   ]
  },
  {
   "cell_type": "markdown",
   "metadata": {},
   "source": [
    "Moderate predictive capability, with R-squared 0.09 only."
   ]
  }
 ],
 "metadata": {
  "kernelspec": {
   "display_name": "base",
   "language": "python",
   "name": "python3"
  },
  "language_info": {
   "codemirror_mode": {
    "name": "ipython",
    "version": 3
   },
   "file_extension": ".py",
   "mimetype": "text/x-python",
   "name": "python",
   "nbconvert_exporter": "python",
   "pygments_lexer": "ipython3",
   "version": "3.11.7"
  }
 },
 "nbformat": 4,
 "nbformat_minor": 2
}
